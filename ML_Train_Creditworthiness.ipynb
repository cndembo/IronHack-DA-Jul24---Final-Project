{
 "cells": [
  {
   "cell_type": "markdown",
   "metadata": {},
   "source": [
    "### IronHack DA Bootcamp - Jul24 Lisbon\n",
    "### Final Project - ML Creditworthiness \"Train\" Prediction\n"
   ]
  },
  {
   "cell_type": "code",
   "execution_count": 28,
   "metadata": {},
   "outputs": [],
   "source": [
    "#Libraries\n",
    "import pandas as pd\n",
    "import numpy as np\n",
    "import joblib\n",
    "from sklearn.model_selection import train_test_split\n",
    "from sklearn.ensemble import RandomForestClassifier\n",
    "from sklearn.neighbors import KNeighborsClassifier\n",
    "from sklearn.linear_model import LogisticRegression\n",
    "from sklearn.tree import DecisionTreeClassifier\n",
    "from sklearn.ensemble import AdaBoostClassifier\n",
    "from sklearn.ensemble import GradientBoostingClassifier\n",
    "\n",
    "from sklearn.feature_selection import SelectKBest\n",
    "from sklearn.feature_selection import chi2\n",
    "from sklearn.preprocessing import LabelEncoder\n",
    "\n",
    "from sklearn.preprocessing import MinMaxScaler, StandardScaler\n",
    "#from sklearn.metrics import mean_squared_error, r2_score, mean_absolute_error\n",
    "\n",
    "from sklearn.metrics import accuracy_score\n",
    "from sklearn.metrics import precision_score\n",
    "from sklearn.metrics import f1_score\n",
    "from sklearn.metrics import recall_score\n",
    "\n",
    "import warnings\n",
    "warnings.simplefilter(action='ignore', category=FutureWarning)"
   ]
  },
  {
   "cell_type": "code",
   "execution_count": 29,
   "metadata": {},
   "outputs": [],
   "source": [
    "#Load data\n",
    "bank_df = pd.read_csv('bank_df_cleaned.csv')\n"
   ]
  },
  {
   "cell_type": "markdown",
   "metadata": {},
   "source": [
    "## Select features"
   ]
  },
  {
   "cell_type": "code",
   "execution_count": 30,
   "metadata": {},
   "outputs": [],
   "source": [
    "#Label encoding\n",
    "bank_df['Credit_Mix'] = bank_df['Credit_Mix'].astype(str)\n",
    "\n",
    "label_encoder = LabelEncoder()\n",
    "bank_df['Payment_Amount_encoded'] = label_encoder.fit_transform(bank_df['Payment_of_Min_Amount'])\n",
    "# Type_of_Loan_fixed_encoded - One-hot enconding\n",
    "bank_df['Type_of_Loan_fixed_encoded'] = label_encoder.fit_transform(bank_df['Type_of_Loan_fixed'])\n",
    "\n",
    "#manual Label encoding\n",
    "credit_mix_mapping = {'Bad': 0, 'Standard': 1, 'Good': 2}\n",
    "credit_score_mapping = {'Poor': 0, 'Standard': 1, 'Good': 2}\n",
    "payment_behaviour_mapping = {'Low_spent_Small_value_payments':0,\n",
    "                             'Low_spent_Medium_value_payments':1,\n",
    "                            'Low_spent_Large_value_payments':2,\n",
    "                            'High_spent_Small_value_payments':3,\n",
    "                            'High_spent_Medium_value_payments':4,\n",
    "                            'High_spent_Large_value_payments':5}\n",
    "\n",
    "# Apply the mappings\n",
    "bank_df['Credit_Mix_encoded'] = bank_df['Credit_Mix'].map(credit_mix_mapping)\n",
    "bank_df['Credit_Score_encoded'] = bank_df['Credit_Score'].map(credit_score_mapping)\n",
    "bank_df['Payment_Behaviour_encoded'] = bank_df['Payment_Behaviour'].map(payment_behaviour_mapping)\n",
    "\n",
    "#Distinguish target and features data frames\n",
    "target = bank_df['Credit_Score_encoded']\n",
    "features = bank_df.drop(columns = ['Unnamed: 0','ID','Age','Customer_ID', 'Name', 'Type_of_Loan', 'Month', 'Months', 'Years', \n",
    "                                   'Credit_Mix', 'Payment_of_Min_Amount', 'Payment_Behaviour', 'Credit_Score', \n",
    "                                   'Type_of_Loan_fixed', 'Credit_Score_encoded',\n",
    "                                   'Payment_Amount_encoded', 'Type_of_Loan_fixed_encoded', 'Credit_Mix_encoded', 'Payment_Behaviour_encoded'])\n"
   ]
  },
  {
   "cell_type": "code",
   "execution_count": 31,
   "metadata": {},
   "outputs": [
    {
     "data": {
      "text/plain": [
       "Annual_Income               float64\n",
       "Monthly_Inhand_Salary       float64\n",
       "Num_Bank_Accounts             int64\n",
       "Num_Credit_Card               int64\n",
       "Interest_Rate                 int64\n",
       "Num_of_Loan                   int64\n",
       "Delay_from_due_date           int64\n",
       "Num_of_Delayed_Payment        int64\n",
       "Credit_Utilization_Ratio    float64\n",
       "Monthly_Balance             float64\n",
       "dtype: object"
      ]
     },
     "execution_count": 31,
     "metadata": {},
     "output_type": "execute_result"
    }
   ],
   "source": [
    "features.dtypes"
   ]
  },
  {
   "cell_type": "markdown",
   "metadata": {},
   "source": [
    "## Train the ML"
   ]
  },
  {
   "cell_type": "code",
   "execution_count": 32,
   "metadata": {},
   "outputs": [],
   "source": [
    "#no features engeneering to apply\n",
    "#split train/test\n",
    "X_train, X_test, y_train, y_test = train_test_split(features, target, test_size = 0.25, random_state = 0)\n",
    "\n",
    "#apply feature scalling\n",
    "normalizer = MinMaxScaler()\n",
    "#standerdizer = StandardScaler()\n",
    "#normalizer.fit(X_train)"
   ]
  },
  {
   "cell_type": "code",
   "execution_count": 35,
   "metadata": {},
   "outputs": [
    {
     "name": "stdout",
     "output_type": "stream",
     "text": [
      "\n",
      "Random Forest evaluation\n",
      "Accuracy: 0.7691815345227618\n",
      "\n",
      "KNeighbors evaluation\n",
      "Accuracy: 0.6604528362268981\n",
      "\n",
      "DecisionTree Classifier evaluation\n",
      "Accuracy: 0.697375790063205\n",
      "\n",
      "AdaBoost Classifier evaluation\n",
      "Accuracy: 0.6268501480118409\n",
      "\n",
      "GradientBoost Classifier evaluation\n",
      "Accuracy: 0.6655732458596688\n"
     ]
    }
   ],
   "source": [
    "#Initialize Classification models\n",
    "rfc = RandomForestClassifier(random_state=0)\n",
    "knn = KNeighborsClassifier()\n",
    "#lrc = LogisticRegression()\n",
    "dtc = DecisionTreeClassifier()\n",
    "ada = AdaBoostClassifier()\n",
    "gdb = GradientBoostingClassifier()\n",
    "\n",
    "#fit models\n",
    "rfc.fit(X_train, y_train)\n",
    "knn.fit(X_train, y_train)\n",
    "#lrc.fit(X_train, y_train)\n",
    "dtc.fit(X_train, y_train)\n",
    "ada.fit(X_train, y_train)\n",
    "gdb.fit(X_train, y_train)\n",
    "\n",
    "#prediction\n",
    "rfc_pred = rfc.predict(X_test)\n",
    "knn_pred = knn.predict(X_test)\n",
    "#lrc_pred = lrc.predict(X_test)\n",
    "dtc_pred = dtc.predict(X_test)\n",
    "ada_pred = ada.predict(X_test)\n",
    "gdb_pred = gdb.predict(X_test)\n",
    "\n",
    "\n",
    "# Accuracy Evaluation\n",
    "print(\"\\nRandom Forest evaluation\")\n",
    "accuracy = accuracy_score(y_test, rfc_pred)\n",
    "print(f'Accuracy: {accuracy}')\n",
    "\n",
    "print(\"\\nKNeighbors evaluation\")\n",
    "accuracy = accuracy_score(y_test, knn_pred)\n",
    "print(f'Accuracy: {accuracy}')\n",
    "\n",
    "# print(\"\\nLogistic Regression evaluation\")\n",
    "# accuracy = accuracy_score(y_test, lrc_pred)\n",
    "# print(f'Accuracy: {accuracy}')\n",
    "\n",
    "print(\"\\nDecisionTree Classifier evaluation\")\n",
    "accuracy = accuracy_score(y_test, dtc_pred)\n",
    "print(f'Accuracy: {accuracy}')\n",
    "\n",
    "print(\"\\nAdaBoost Classifier evaluation\")\n",
    "accuracy = accuracy_score(y_test, ada_pred)\n",
    "print(f'Accuracy: {accuracy}')\n",
    "\n",
    "print(\"\\nGradientBoost Classifier evaluation\")\n",
    "accuracy = accuracy_score(y_test, gdb_pred)\n",
    "print(f'Accuracy: {accuracy}')"
   ]
  },
  {
   "cell_type": "code",
   "execution_count": 34,
   "metadata": {},
   "outputs": [
    {
     "data": {
      "text/plain": [
       "['trained_score_model_rfc.pkl']"
      ]
     },
     "execution_count": 34,
     "metadata": {},
     "output_type": "execute_result"
    }
   ],
   "source": [
    "#Save the selected model\n",
    "joblib.dump(rfc, 'trained_score_model_rfc.pkl')"
   ]
  }
 ],
 "metadata": {
  "kernelspec": {
   "display_name": "base",
   "language": "python",
   "name": "python3"
  },
  "language_info": {
   "codemirror_mode": {
    "name": "ipython",
    "version": 3
   },
   "file_extension": ".py",
   "mimetype": "text/x-python",
   "name": "python",
   "nbconvert_exporter": "python",
   "pygments_lexer": "ipython3",
   "version": "3.12.4"
  }
 },
 "nbformat": 4,
 "nbformat_minor": 2
}
